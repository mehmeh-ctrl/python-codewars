{
  "nbformat": 4,
  "nbformat_minor": 0,
  "metadata": {
    "colab": {
      "name": "Copy of headlines.ipynb",
      "provenance": [],
      "collapsed_sections": [],
      "authorship_tag": "ABX9TyMuDT7Ly1Kla/kRwd26R5kA",
      "include_colab_link": true
    },
    "kernelspec": {
      "name": "python3",
      "display_name": "Python 3"
    }
  },
  "cells": [
    {
      "cell_type": "markdown",
      "metadata": {
        "id": "view-in-github",
        "colab_type": "text"
      },
      "source": [
        "<a href=\"https://colab.research.google.com/github/mehmeh-ctrl/python-codewars/blob/master/Copy_of_headlines.ipynb\" target=\"_parent\"><img src=\"https://colab.research.google.com/assets/colab-badge.svg\" alt=\"Open In Colab\"/></a>"
      ]
    },
    {
      "cell_type": "code",
      "metadata": {
        "id": "XiYBYpeQbHI3",
        "colab_type": "code",
        "colab": {}
      },
      "source": [
        "maplist=[]\n",
        "with open('./headlines.txt', 'r') as headlines:\n",
        "    for line in headlines:\n",
        "        maplist.append(line.rstrip('\\n'))"
      ],
      "execution_count": 139,
      "outputs": []
    },
    {
      "cell_type": "code",
      "metadata": {
        "id": "ZG2708y6bLcz",
        "colab_type": "code",
        "colab": {}
      },
      "source": [
        "for headline in maplist:\n",
        "    print(headline)"
      ],
      "execution_count": 119,
      "outputs": []
    },
    {
      "cell_type": "code",
      "metadata": {
        "id": "nrLVvyDtbVsr",
        "colab_type": "code",
        "colab": {}
      },
      "source": [
        "cols=[\"headline\", \"city\", \"country\"]"
      ],
      "execution_count": 140,
      "outputs": []
    },
    {
      "cell_type": "code",
      "metadata": {
        "id": "1EnX3JRDbXIv",
        "colab_type": "code",
        "colab": {}
      },
      "source": [
        "import pandas as pd\n",
        "headlines_df=pd.DataFrame(columns=cols)"
      ],
      "execution_count": 141,
      "outputs": []
    },
    {
      "cell_type": "code",
      "metadata": {
        "id": "3eU6rQJ_bboR",
        "colab_type": "code",
        "colab": {}
      },
      "source": [
        "!pip install geonamescache"
      ],
      "execution_count": 142,
      "outputs": []
    },
    {
      "cell_type": "code",
      "metadata": {
        "id": "Yx5MregubyHb",
        "colab_type": "code",
        "colab": {}
      },
      "source": [
        "import geonamescache\n",
        "\n",
        "from geonamescache import GeonamesCache\n",
        "gc = GeonamesCache()"
      ],
      "execution_count": 143,
      "outputs": []
    },
    {
      "cell_type": "code",
      "metadata": {
        "id": "orwxEWafbzY5",
        "colab_type": "code",
        "colab": {}
      },
      "source": [
        "cities = gc.get_cities()"
      ],
      "execution_count": 144,
      "outputs": []
    },
    {
      "cell_type": "code",
      "metadata": {
        "id": "vjEI4NNXb4xg",
        "colab_type": "code",
        "colab": {}
      },
      "source": [
        "countries = gc.get_countries()"
      ],
      "execution_count": 145,
      "outputs": []
    },
    {
      "cell_type": "code",
      "metadata": {
        "id": "7n4ozPDKcHPL",
        "colab_type": "code",
        "colab": {}
      },
      "source": [
        "cities_names=[]\n",
        "cities_id=list(cities.keys())\n",
        "for city_id in cities_id:\n",
        "    cities_names.append(cities[city_id]['name'])"
      ],
      "execution_count": 146,
      "outputs": []
    },
    {
      "cell_type": "code",
      "metadata": {
        "id": "Ob705OvLcIXT",
        "colab_type": "code",
        "colab": {}
      },
      "source": [
        "countries_names=[]\n",
        "countries_id=list(countries.keys())\n",
        "for country_id in countries_id:\n",
        "    countries_names.append(countries[country_id]['name'])"
      ],
      "execution_count": 147,
      "outputs": []
    },
    {
      "cell_type": "code",
      "metadata": {
        "id": "1S4RLUSOcXB3",
        "colab_type": "code",
        "colab": {}
      },
      "source": [
        "!pip install unidecode\n",
        "from unidecode import unidecode\n",
        "accented_names = [city['name'] for city in gc.get_cities().values()\n",
        "                  if city['name'] != unidecode(city['name'])]"
      ],
      "execution_count": 148,
      "outputs": []
    },
    {
      "cell_type": "code",
      "metadata": {
        "id": "qx4XJZ6ncYHm",
        "colab_type": "code",
        "colab": {}
      },
      "source": [
        "cities_names_unidecoded=[unidecode(city) for city in cities_names]"
      ],
      "execution_count": 149,
      "outputs": []
    },
    {
      "cell_type": "code",
      "metadata": {
        "id": "xMlDoDUXchp0",
        "colab_type": "code",
        "colab": {}
      },
      "source": [
        "countries_unidecoded=[unidecode(country) for country in countries_names]"
      ],
      "execution_count": 150,
      "outputs": []
    },
    {
      "cell_type": "code",
      "metadata": {
        "id": "nlkYA-vBcll8",
        "colab_type": "code",
        "colab": {}
      },
      "source": [
        "countries_unidecoded_new=[]\n",
        "for country in countries_unidecoded:\n",
        "    if ',' in country:\n",
        "        country=country.split(',')\n",
        "        country_str = country[1] + country[0]\n",
        "        new_country = ''.join(country_str)\n",
        "        countries_unidecoded_new.append(new_country)\n",
        "    else:\n",
        "        countries_unidecoded_new.append(country)"
      ],
      "execution_count": 152,
      "outputs": []
    },
    {
      "cell_type": "code",
      "metadata": {
        "id": "kw09u58ncqg9",
        "colab_type": "code",
        "colab": {}
      },
      "source": [
        "import re\n",
        "\n",
        "dict_city=dict()\n",
        "dict_country=dict()\n",
        "for city_name in cities_names_unidecoded:\n",
        "    regexp_city_name = re.compile(r'\\b'+city_name+r'\\b')\n",
        "    dict_city[city_name]= regexp_city_name\n",
        "for country in countries_unidecoded_new:\n",
        "    regexp_country_name=re.compile(r'\\b'+country+r'\\b')\n",
        "    dict_country[country] =  regexp_country_name"
      ],
      "execution_count": 153,
      "outputs": []
    },
    {
      "cell_type": "code",
      "metadata": {
        "id": "iUi1BCaUcrdv",
        "colab_type": "code",
        "colab": {}
      },
      "source": [
        "import numpy as np\n",
        "import pandas as pd\n",
        "import sys\n",
        "      # Redirects prints to a file\n",
        "headlines_maplist=[]\n",
        "cities_maplist = []\n",
        "countries_maplist=[]\n",
        "for headline in maplist:\n",
        "  cities_maplist =[]\n",
        "  if headline not in headlines_maplist:\n",
        "    for city_name in cities_names_unidecoded:\n",
        "      if city_name not in cities_maplist:\n",
        "        if dict_city[city_name].search(headline):\n",
        "          for country in countries_unidecoded_new:\n",
        "            if headline not in headlines_maplist:\n",
        "              if dict_country[country].search(headline):\n",
        "                a_row = pd.Series([headline, city_name, country])\n",
        "                headlines_maplist.append(headline)\n",
        "                cities_maplist.append(city_name)\n",
        "                row_df = pd.DataFrame([a_row])\n",
        "                headlines_df = pd.concat([row_df, headlines_df], ignore_index=True)\n",
        "for headline in maplist:\n",
        "  cities_maplist =[]\n",
        "  if headline not in headlines_maplist:\n",
        "    for city_name in cities_names_unidecoded:\n",
        "      if city_name not in cities_maplist:\n",
        "        if headline not in headlines_maplist:\n",
        "          if dict_city[city_name].search(headline):\n",
        "            a_row = pd.Series([headline, city_name, np.nan])\n",
        "            headlines_maplist.append(headline)\n",
        "            cities_maplist.append(city_name)\n",
        "            row_df = pd.DataFrame([a_row])\n",
        "            headlines_df = pd.concat([row_df, headlines_df], ignore_index=True)\n",
        "for headline in maplist:\n",
        "  if headline not in headlines_maplist:\n",
        "    for country in countries_unidecoded_new:\n",
        "      if headline not in headlines_maplist:\n",
        "        if dict_country[country].search(headline):\n",
        "          a_row = pd.Series([headline, np.nan, country])\n",
        "          headlines_maplist.append(headline)\n",
        "          row_df = pd.DataFrame([a_row])\n",
        "          headlines_df = pd.concat([row_df, headlines_df], ignore_index=True)\n",
        "cities_maplist =[]\n",
        "print(headlines_df)"
      ],
      "execution_count": 154,
      "outputs": []
    },
    {
      "cell_type": "code",
      "metadata": {
        "id": "YBnN5S4b2Dv1",
        "colab_type": "code",
        "colab": {
          "base_uri": "https://localhost:8080/",
          "height": 203
        },
        "outputId": "a31a843d-fa80-4af7-b972-978aa7cb7e43"
      },
      "source": [
        "headlines_df.head()"
      ],
      "execution_count": 155,
      "outputs": [
        {
          "output_type": "execute_result",
          "data": {
            "text/html": [
              "<div>\n",
              "<style scoped>\n",
              "    .dataframe tbody tr th:only-of-type {\n",
              "        vertical-align: middle;\n",
              "    }\n",
              "\n",
              "    .dataframe tbody tr th {\n",
              "        vertical-align: top;\n",
              "    }\n",
              "\n",
              "    .dataframe thead th {\n",
              "        text-align: right;\n",
              "    }\n",
              "</style>\n",
              "<table border=\"1\" class=\"dataframe\">\n",
              "  <thead>\n",
              "    <tr style=\"text-align: right;\">\n",
              "      <th></th>\n",
              "      <th>0</th>\n",
              "      <th>1</th>\n",
              "      <th>2</th>\n",
              "      <th>city</th>\n",
              "      <th>country</th>\n",
              "      <th>headline</th>\n",
              "    </tr>\n",
              "  </thead>\n",
              "  <tbody>\n",
              "    <tr>\n",
              "      <th>0</th>\n",
              "      <td>Zika Outbreak in Wichita Falls</td>\n",
              "      <td>Wichita</td>\n",
              "      <td>NaN</td>\n",
              "      <td>NaN</td>\n",
              "      <td>NaN</td>\n",
              "      <td>NaN</td>\n",
              "    </tr>\n",
              "    <tr>\n",
              "      <th>1</th>\n",
              "      <td>More Zika patients reported in Bella Vista</td>\n",
              "      <td>Bella Vista</td>\n",
              "      <td>NaN</td>\n",
              "      <td>NaN</td>\n",
              "      <td>NaN</td>\n",
              "      <td>NaN</td>\n",
              "    </tr>\n",
              "    <tr>\n",
              "      <th>2</th>\n",
              "      <td>Suva authorities confirmed the spread of Rotav...</td>\n",
              "      <td>Suva</td>\n",
              "      <td>NaN</td>\n",
              "      <td>NaN</td>\n",
              "      <td>NaN</td>\n",
              "      <td>NaN</td>\n",
              "    </tr>\n",
              "    <tr>\n",
              "      <th>3</th>\n",
              "      <td>More Zika patients reported in Indang</td>\n",
              "      <td>Indang</td>\n",
              "      <td>NaN</td>\n",
              "      <td>NaN</td>\n",
              "      <td>NaN</td>\n",
              "      <td>NaN</td>\n",
              "    </tr>\n",
              "    <tr>\n",
              "      <th>4</th>\n",
              "      <td>Rumors about Rabies spreading in Jerusalem hav...</td>\n",
              "      <td>Jerusalem</td>\n",
              "      <td>NaN</td>\n",
              "      <td>NaN</td>\n",
              "      <td>NaN</td>\n",
              "      <td>NaN</td>\n",
              "    </tr>\n",
              "  </tbody>\n",
              "</table>\n",
              "</div>"
            ],
            "text/plain": [
              "                                                   0  ... headline\n",
              "0                     Zika Outbreak in Wichita Falls  ...      NaN\n",
              "1         More Zika patients reported in Bella Vista  ...      NaN\n",
              "2  Suva authorities confirmed the spread of Rotav...  ...      NaN\n",
              "3              More Zika patients reported in Indang  ...      NaN\n",
              "4  Rumors about Rabies spreading in Jerusalem hav...  ...      NaN\n",
              "\n",
              "[5 rows x 6 columns]"
            ]
          },
          "metadata": {
            "tags": []
          },
          "execution_count": 155
        }
      ]
    },
    {
      "cell_type": "code",
      "metadata": {
        "id": "172SE3Lud29C",
        "colab_type": "code",
        "colab": {
          "base_uri": "https://localhost:8080/",
          "height": 486
        },
        "outputId": "e509f7fa-20b8-4a2c-cd6f-4f515adbe6de"
      },
      "source": [
        "headlines_df"
      ],
      "execution_count": 156,
      "outputs": [
        {
          "output_type": "execute_result",
          "data": {
            "text/html": [
              "<div>\n",
              "<style scoped>\n",
              "    .dataframe tbody tr th:only-of-type {\n",
              "        vertical-align: middle;\n",
              "    }\n",
              "\n",
              "    .dataframe tbody tr th {\n",
              "        vertical-align: top;\n",
              "    }\n",
              "\n",
              "    .dataframe thead th {\n",
              "        text-align: right;\n",
              "    }\n",
              "</style>\n",
              "<table border=\"1\" class=\"dataframe\">\n",
              "  <thead>\n",
              "    <tr style=\"text-align: right;\">\n",
              "      <th></th>\n",
              "      <th>0</th>\n",
              "      <th>1</th>\n",
              "      <th>2</th>\n",
              "      <th>city</th>\n",
              "      <th>country</th>\n",
              "      <th>headline</th>\n",
              "    </tr>\n",
              "  </thead>\n",
              "  <tbody>\n",
              "    <tr>\n",
              "      <th>0</th>\n",
              "      <td>Zika Outbreak in Wichita Falls</td>\n",
              "      <td>Wichita</td>\n",
              "      <td>NaN</td>\n",
              "      <td>NaN</td>\n",
              "      <td>NaN</td>\n",
              "      <td>NaN</td>\n",
              "    </tr>\n",
              "    <tr>\n",
              "      <th>1</th>\n",
              "      <td>More Zika patients reported in Bella Vista</td>\n",
              "      <td>Bella Vista</td>\n",
              "      <td>NaN</td>\n",
              "      <td>NaN</td>\n",
              "      <td>NaN</td>\n",
              "      <td>NaN</td>\n",
              "    </tr>\n",
              "    <tr>\n",
              "      <th>2</th>\n",
              "      <td>Suva authorities confirmed the spread of Rotav...</td>\n",
              "      <td>Suva</td>\n",
              "      <td>NaN</td>\n",
              "      <td>NaN</td>\n",
              "      <td>NaN</td>\n",
              "      <td>NaN</td>\n",
              "    </tr>\n",
              "    <tr>\n",
              "      <th>3</th>\n",
              "      <td>More Zika patients reported in Indang</td>\n",
              "      <td>Indang</td>\n",
              "      <td>NaN</td>\n",
              "      <td>NaN</td>\n",
              "      <td>NaN</td>\n",
              "      <td>NaN</td>\n",
              "    </tr>\n",
              "    <tr>\n",
              "      <th>4</th>\n",
              "      <td>Rumors about Rabies spreading in Jerusalem hav...</td>\n",
              "      <td>Jerusalem</td>\n",
              "      <td>NaN</td>\n",
              "      <td>NaN</td>\n",
              "      <td>NaN</td>\n",
              "      <td>NaN</td>\n",
              "    </tr>\n",
              "    <tr>\n",
              "      <th>...</th>\n",
              "      <td>...</td>\n",
              "      <td>...</td>\n",
              "      <td>...</td>\n",
              "      <td>...</td>\n",
              "      <td>...</td>\n",
              "      <td>...</td>\n",
              "    </tr>\n",
              "    <tr>\n",
              "      <th>601</th>\n",
              "      <td>Zika surfaces in Klang, Malaysia</td>\n",
              "      <td>Klang</td>\n",
              "      <td>Malaysia</td>\n",
              "      <td>NaN</td>\n",
              "      <td>NaN</td>\n",
              "      <td>NaN</td>\n",
              "    </tr>\n",
              "    <tr>\n",
              "      <th>602</th>\n",
              "      <td>Zika outbreak in Piracicaba, Brazil</td>\n",
              "      <td>Piracicaba</td>\n",
              "      <td>Brazil</td>\n",
              "      <td>NaN</td>\n",
              "      <td>NaN</td>\n",
              "      <td>NaN</td>\n",
              "    </tr>\n",
              "    <tr>\n",
              "      <th>603</th>\n",
              "      <td>Thailand-Zika Virus in Bangkok</td>\n",
              "      <td>Bangkok</td>\n",
              "      <td>Thailand</td>\n",
              "      <td>NaN</td>\n",
              "      <td>NaN</td>\n",
              "      <td>NaN</td>\n",
              "    </tr>\n",
              "    <tr>\n",
              "      <th>604</th>\n",
              "      <td>Zika cases in Vietnam's Ho Chi Minh City surge</td>\n",
              "      <td>Ho</td>\n",
              "      <td>Vietnam</td>\n",
              "      <td>NaN</td>\n",
              "      <td>NaN</td>\n",
              "      <td>NaN</td>\n",
              "    </tr>\n",
              "    <tr>\n",
              "      <th>605</th>\n",
              "      <td>Mystery Virus Spreads in Recife, Brazil</td>\n",
              "      <td>Recife</td>\n",
              "      <td>Brazil</td>\n",
              "      <td>NaN</td>\n",
              "      <td>NaN</td>\n",
              "      <td>NaN</td>\n",
              "    </tr>\n",
              "  </tbody>\n",
              "</table>\n",
              "<p>606 rows × 6 columns</p>\n",
              "</div>"
            ],
            "text/plain": [
              "                                                     0  ... headline\n",
              "0                       Zika Outbreak in Wichita Falls  ...      NaN\n",
              "1           More Zika patients reported in Bella Vista  ...      NaN\n",
              "2    Suva authorities confirmed the spread of Rotav...  ...      NaN\n",
              "3                More Zika patients reported in Indang  ...      NaN\n",
              "4    Rumors about Rabies spreading in Jerusalem hav...  ...      NaN\n",
              "..                                                 ...  ...      ...\n",
              "601                   Zika surfaces in Klang, Malaysia  ...      NaN\n",
              "602                Zika outbreak in Piracicaba, Brazil  ...      NaN\n",
              "603                     Thailand-Zika Virus in Bangkok  ...      NaN\n",
              "604     Zika cases in Vietnam's Ho Chi Minh City surge  ...      NaN\n",
              "605            Mystery Virus Spreads in Recife, Brazil  ...      NaN\n",
              "\n",
              "[606 rows x 6 columns]"
            ]
          },
          "metadata": {
            "tags": []
          },
          "execution_count": 156
        }
      ]
    },
    {
      "cell_type": "code",
      "metadata": {
        "id": "OA4nSERDd3vu",
        "colab_type": "code",
        "colab": {}
      },
      "source": [
        "headlines_dropped_columns=headlines_df.drop(columns=cols)"
      ],
      "execution_count": 157,
      "outputs": []
    },
    {
      "cell_type": "code",
      "metadata": {
        "id": "7OZcruf7twxL",
        "colab_type": "code",
        "colab": {
          "base_uri": "https://localhost:8080/",
          "height": 417
        },
        "outputId": "9377d06d-2f59-45de-b116-59febef261df"
      },
      "source": [
        "headlines_dropped_columns"
      ],
      "execution_count": 158,
      "outputs": [
        {
          "output_type": "execute_result",
          "data": {
            "text/html": [
              "<div>\n",
              "<style scoped>\n",
              "    .dataframe tbody tr th:only-of-type {\n",
              "        vertical-align: middle;\n",
              "    }\n",
              "\n",
              "    .dataframe tbody tr th {\n",
              "        vertical-align: top;\n",
              "    }\n",
              "\n",
              "    .dataframe thead th {\n",
              "        text-align: right;\n",
              "    }\n",
              "</style>\n",
              "<table border=\"1\" class=\"dataframe\">\n",
              "  <thead>\n",
              "    <tr style=\"text-align: right;\">\n",
              "      <th></th>\n",
              "      <th>0</th>\n",
              "      <th>1</th>\n",
              "      <th>2</th>\n",
              "    </tr>\n",
              "  </thead>\n",
              "  <tbody>\n",
              "    <tr>\n",
              "      <th>0</th>\n",
              "      <td>Zika Outbreak in Wichita Falls</td>\n",
              "      <td>Wichita</td>\n",
              "      <td>NaN</td>\n",
              "    </tr>\n",
              "    <tr>\n",
              "      <th>1</th>\n",
              "      <td>More Zika patients reported in Bella Vista</td>\n",
              "      <td>Bella Vista</td>\n",
              "      <td>NaN</td>\n",
              "    </tr>\n",
              "    <tr>\n",
              "      <th>2</th>\n",
              "      <td>Suva authorities confirmed the spread of Rotav...</td>\n",
              "      <td>Suva</td>\n",
              "      <td>NaN</td>\n",
              "    </tr>\n",
              "    <tr>\n",
              "      <th>3</th>\n",
              "      <td>More Zika patients reported in Indang</td>\n",
              "      <td>Indang</td>\n",
              "      <td>NaN</td>\n",
              "    </tr>\n",
              "    <tr>\n",
              "      <th>4</th>\n",
              "      <td>Rumors about Rabies spreading in Jerusalem hav...</td>\n",
              "      <td>Jerusalem</td>\n",
              "      <td>NaN</td>\n",
              "    </tr>\n",
              "    <tr>\n",
              "      <th>...</th>\n",
              "      <td>...</td>\n",
              "      <td>...</td>\n",
              "      <td>...</td>\n",
              "    </tr>\n",
              "    <tr>\n",
              "      <th>601</th>\n",
              "      <td>Zika surfaces in Klang, Malaysia</td>\n",
              "      <td>Klang</td>\n",
              "      <td>Malaysia</td>\n",
              "    </tr>\n",
              "    <tr>\n",
              "      <th>602</th>\n",
              "      <td>Zika outbreak in Piracicaba, Brazil</td>\n",
              "      <td>Piracicaba</td>\n",
              "      <td>Brazil</td>\n",
              "    </tr>\n",
              "    <tr>\n",
              "      <th>603</th>\n",
              "      <td>Thailand-Zika Virus in Bangkok</td>\n",
              "      <td>Bangkok</td>\n",
              "      <td>Thailand</td>\n",
              "    </tr>\n",
              "    <tr>\n",
              "      <th>604</th>\n",
              "      <td>Zika cases in Vietnam's Ho Chi Minh City surge</td>\n",
              "      <td>Ho</td>\n",
              "      <td>Vietnam</td>\n",
              "    </tr>\n",
              "    <tr>\n",
              "      <th>605</th>\n",
              "      <td>Mystery Virus Spreads in Recife, Brazil</td>\n",
              "      <td>Recife</td>\n",
              "      <td>Brazil</td>\n",
              "    </tr>\n",
              "  </tbody>\n",
              "</table>\n",
              "<p>606 rows × 3 columns</p>\n",
              "</div>"
            ],
            "text/plain": [
              "                                                     0            1         2\n",
              "0                       Zika Outbreak in Wichita Falls      Wichita       NaN\n",
              "1           More Zika patients reported in Bella Vista  Bella Vista       NaN\n",
              "2    Suva authorities confirmed the spread of Rotav...         Suva       NaN\n",
              "3                More Zika patients reported in Indang       Indang       NaN\n",
              "4    Rumors about Rabies spreading in Jerusalem hav...    Jerusalem       NaN\n",
              "..                                                 ...          ...       ...\n",
              "601                   Zika surfaces in Klang, Malaysia        Klang  Malaysia\n",
              "602                Zika outbreak in Piracicaba, Brazil   Piracicaba    Brazil\n",
              "603                     Thailand-Zika Virus in Bangkok      Bangkok  Thailand\n",
              "604     Zika cases in Vietnam's Ho Chi Minh City surge           Ho   Vietnam\n",
              "605            Mystery Virus Spreads in Recife, Brazil       Recife    Brazil\n",
              "\n",
              "[606 rows x 3 columns]"
            ]
          },
          "metadata": {
            "tags": []
          },
          "execution_count": 158
        }
      ]
    },
    {
      "cell_type": "code",
      "metadata": {
        "id": "8STzEOc3tyuV",
        "colab_type": "code",
        "colab": {}
      },
      "source": [
        "columns = headlines_dropped_columns.columns.to_list()"
      ],
      "execution_count": 159,
      "outputs": []
    },
    {
      "cell_type": "code",
      "metadata": {
        "id": "Aj60RF-auOfk",
        "colab_type": "code",
        "colab": {}
      },
      "source": [
        "columns[0]=\"headline\""
      ],
      "execution_count": 166,
      "outputs": []
    },
    {
      "cell_type": "code",
      "metadata": {
        "id": "gsC33nTmuTT1",
        "colab_type": "code",
        "colab": {}
      },
      "source": [
        "columns[1]=\"city\""
      ],
      "execution_count": 167,
      "outputs": []
    },
    {
      "cell_type": "code",
      "metadata": {
        "id": "9IaZ6ICNuctJ",
        "colab_type": "code",
        "colab": {}
      },
      "source": [
        "columns[2]=\"country\""
      ],
      "execution_count": 168,
      "outputs": []
    },
    {
      "cell_type": "code",
      "metadata": {
        "id": "qooaTRaeuxrj",
        "colab_type": "code",
        "colab": {}
      },
      "source": [
        "headlines_dropped_columns.columns=columns"
      ],
      "execution_count": 169,
      "outputs": []
    },
    {
      "cell_type": "code",
      "metadata": {
        "id": "NSZRzBqFu604",
        "colab_type": "code",
        "colab": {
          "base_uri": "https://localhost:8080/",
          "height": 203
        },
        "outputId": "13a16027-28e9-4a16-ae40-058f795e4c03"
      },
      "source": [
        "headlines_dropped_columns.head()"
      ],
      "execution_count": 170,
      "outputs": [
        {
          "output_type": "execute_result",
          "data": {
            "text/html": [
              "<div>\n",
              "<style scoped>\n",
              "    .dataframe tbody tr th:only-of-type {\n",
              "        vertical-align: middle;\n",
              "    }\n",
              "\n",
              "    .dataframe tbody tr th {\n",
              "        vertical-align: top;\n",
              "    }\n",
              "\n",
              "    .dataframe thead th {\n",
              "        text-align: right;\n",
              "    }\n",
              "</style>\n",
              "<table border=\"1\" class=\"dataframe\">\n",
              "  <thead>\n",
              "    <tr style=\"text-align: right;\">\n",
              "      <th></th>\n",
              "      <th>headline</th>\n",
              "      <th>city</th>\n",
              "      <th>country</th>\n",
              "    </tr>\n",
              "  </thead>\n",
              "  <tbody>\n",
              "    <tr>\n",
              "      <th>0</th>\n",
              "      <td>Zika Outbreak in Wichita Falls</td>\n",
              "      <td>Wichita</td>\n",
              "      <td>NaN</td>\n",
              "    </tr>\n",
              "    <tr>\n",
              "      <th>1</th>\n",
              "      <td>More Zika patients reported in Bella Vista</td>\n",
              "      <td>Bella Vista</td>\n",
              "      <td>NaN</td>\n",
              "    </tr>\n",
              "    <tr>\n",
              "      <th>2</th>\n",
              "      <td>Suva authorities confirmed the spread of Rotav...</td>\n",
              "      <td>Suva</td>\n",
              "      <td>NaN</td>\n",
              "    </tr>\n",
              "    <tr>\n",
              "      <th>3</th>\n",
              "      <td>More Zika patients reported in Indang</td>\n",
              "      <td>Indang</td>\n",
              "      <td>NaN</td>\n",
              "    </tr>\n",
              "    <tr>\n",
              "      <th>4</th>\n",
              "      <td>Rumors about Rabies spreading in Jerusalem hav...</td>\n",
              "      <td>Jerusalem</td>\n",
              "      <td>NaN</td>\n",
              "    </tr>\n",
              "  </tbody>\n",
              "</table>\n",
              "</div>"
            ],
            "text/plain": [
              "                                            headline         city country\n",
              "0                     Zika Outbreak in Wichita Falls      Wichita     NaN\n",
              "1         More Zika patients reported in Bella Vista  Bella Vista     NaN\n",
              "2  Suva authorities confirmed the spread of Rotav...         Suva     NaN\n",
              "3              More Zika patients reported in Indang       Indang     NaN\n",
              "4  Rumors about Rabies spreading in Jerusalem hav...    Jerusalem     NaN"
            ]
          },
          "metadata": {
            "tags": []
          },
          "execution_count": 170
        }
      ]
    },
    {
      "cell_type": "code",
      "metadata": {
        "id": "4AwztBhqvc2p",
        "colab_type": "code",
        "colab": {}
      },
      "source": [
        "headlines_df = headlines_dropped_columns"
      ],
      "execution_count": 171,
      "outputs": []
    },
    {
      "cell_type": "code",
      "metadata": {
        "id": "Ql0kNyYmvmj2",
        "colab_type": "code",
        "colab": {
          "base_uri": "https://localhost:8080/",
          "height": 417
        },
        "outputId": "772b5e84-b7ef-4f8c-d778-f5056e46e94b"
      },
      "source": [
        "headlines_df"
      ],
      "execution_count": 172,
      "outputs": [
        {
          "output_type": "execute_result",
          "data": {
            "text/html": [
              "<div>\n",
              "<style scoped>\n",
              "    .dataframe tbody tr th:only-of-type {\n",
              "        vertical-align: middle;\n",
              "    }\n",
              "\n",
              "    .dataframe tbody tr th {\n",
              "        vertical-align: top;\n",
              "    }\n",
              "\n",
              "    .dataframe thead th {\n",
              "        text-align: right;\n",
              "    }\n",
              "</style>\n",
              "<table border=\"1\" class=\"dataframe\">\n",
              "  <thead>\n",
              "    <tr style=\"text-align: right;\">\n",
              "      <th></th>\n",
              "      <th>headline</th>\n",
              "      <th>city</th>\n",
              "      <th>country</th>\n",
              "    </tr>\n",
              "  </thead>\n",
              "  <tbody>\n",
              "    <tr>\n",
              "      <th>0</th>\n",
              "      <td>Zika Outbreak in Wichita Falls</td>\n",
              "      <td>Wichita</td>\n",
              "      <td>NaN</td>\n",
              "    </tr>\n",
              "    <tr>\n",
              "      <th>1</th>\n",
              "      <td>More Zika patients reported in Bella Vista</td>\n",
              "      <td>Bella Vista</td>\n",
              "      <td>NaN</td>\n",
              "    </tr>\n",
              "    <tr>\n",
              "      <th>2</th>\n",
              "      <td>Suva authorities confirmed the spread of Rotav...</td>\n",
              "      <td>Suva</td>\n",
              "      <td>NaN</td>\n",
              "    </tr>\n",
              "    <tr>\n",
              "      <th>3</th>\n",
              "      <td>More Zika patients reported in Indang</td>\n",
              "      <td>Indang</td>\n",
              "      <td>NaN</td>\n",
              "    </tr>\n",
              "    <tr>\n",
              "      <th>4</th>\n",
              "      <td>Rumors about Rabies spreading in Jerusalem hav...</td>\n",
              "      <td>Jerusalem</td>\n",
              "      <td>NaN</td>\n",
              "    </tr>\n",
              "    <tr>\n",
              "      <th>...</th>\n",
              "      <td>...</td>\n",
              "      <td>...</td>\n",
              "      <td>...</td>\n",
              "    </tr>\n",
              "    <tr>\n",
              "      <th>601</th>\n",
              "      <td>Zika surfaces in Klang, Malaysia</td>\n",
              "      <td>Klang</td>\n",
              "      <td>Malaysia</td>\n",
              "    </tr>\n",
              "    <tr>\n",
              "      <th>602</th>\n",
              "      <td>Zika outbreak in Piracicaba, Brazil</td>\n",
              "      <td>Piracicaba</td>\n",
              "      <td>Brazil</td>\n",
              "    </tr>\n",
              "    <tr>\n",
              "      <th>603</th>\n",
              "      <td>Thailand-Zika Virus in Bangkok</td>\n",
              "      <td>Bangkok</td>\n",
              "      <td>Thailand</td>\n",
              "    </tr>\n",
              "    <tr>\n",
              "      <th>604</th>\n",
              "      <td>Zika cases in Vietnam's Ho Chi Minh City surge</td>\n",
              "      <td>Ho</td>\n",
              "      <td>Vietnam</td>\n",
              "    </tr>\n",
              "    <tr>\n",
              "      <th>605</th>\n",
              "      <td>Mystery Virus Spreads in Recife, Brazil</td>\n",
              "      <td>Recife</td>\n",
              "      <td>Brazil</td>\n",
              "    </tr>\n",
              "  </tbody>\n",
              "</table>\n",
              "<p>606 rows × 3 columns</p>\n",
              "</div>"
            ],
            "text/plain": [
              "                                              headline         city   country\n",
              "0                       Zika Outbreak in Wichita Falls      Wichita       NaN\n",
              "1           More Zika patients reported in Bella Vista  Bella Vista       NaN\n",
              "2    Suva authorities confirmed the spread of Rotav...         Suva       NaN\n",
              "3                More Zika patients reported in Indang       Indang       NaN\n",
              "4    Rumors about Rabies spreading in Jerusalem hav...    Jerusalem       NaN\n",
              "..                                                 ...          ...       ...\n",
              "601                   Zika surfaces in Klang, Malaysia        Klang  Malaysia\n",
              "602                Zika outbreak in Piracicaba, Brazil   Piracicaba    Brazil\n",
              "603                     Thailand-Zika Virus in Bangkok      Bangkok  Thailand\n",
              "604     Zika cases in Vietnam's Ho Chi Minh City surge           Ho   Vietnam\n",
              "605            Mystery Virus Spreads in Recife, Brazil       Recife    Brazil\n",
              "\n",
              "[606 rows x 3 columns]"
            ]
          },
          "metadata": {
            "tags": []
          },
          "execution_count": 172
        }
      ]
    },
    {
      "cell_type": "code",
      "metadata": {
        "id": "lDZ-FM_Lu_SK",
        "colab_type": "code",
        "colab": {}
      },
      "source": [
        ""
      ],
      "execution_count": null,
      "outputs": []
    }
  ]
}