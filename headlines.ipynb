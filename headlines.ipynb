{
  "nbformat": 4,
  "nbformat_minor": 0,
  "metadata": {
    "colab": {
      "name": "headlines.ipynb",
      "provenance": [],
      "collapsed_sections": [],
      "authorship_tag": "ABX9TyNVqmnEluTj69yMmK3ulHkV",
      "include_colab_link": true
    },
    "kernelspec": {
      "name": "python3",
      "display_name": "Python 3"
    }
  },
  "cells": [
    {
      "cell_type": "markdown",
      "metadata": {
        "id": "view-in-github",
        "colab_type": "text"
      },
      "source": [
        "<a href=\"https://colab.research.google.com/github/mehmeh-ctrl/python-codewars/blob/master/headlines.ipynb\" target=\"_parent\"><img src=\"https://colab.research.google.com/assets/colab-badge.svg\" alt=\"Open In Colab\"/></a>"
      ]
    },
    {
      "cell_type": "code",
      "metadata": {
        "id": "XiYBYpeQbHI3",
        "colab_type": "code",
        "colab": {}
      },
      "source": [
        "maplist=[]\n",
        "with open('https://gist.githubusercontent.com/mehmeh-ctrl/0072e2b4558131b2240e2304775118a1/raw/1379eacdfc3cba8023299520375314a7065d5ad1/headlines.txt', 'r') as headlines:\n",
        "    for line in headlines:\n",
        "        maplist.append(line.rstrip('\\n'))"
      ],
      "execution_count": 0,
      "outputs": []
    },
    {
      "cell_type": "code",
      "metadata": {
        "id": "ZG2708y6bLcz",
        "colab_type": "code",
        "colab": {}
      },
      "source": [
        "for headline in maplist:\n",
        "    print(headline)"
      ],
      "execution_count": 0,
      "outputs": []
    },
    {
      "cell_type": "code",
      "metadata": {
        "id": "nrLVvyDtbVsr",
        "colab_type": "code",
        "colab": {}
      },
      "source": [
        "cols=[\"headline\", \"city\", \"country\"]"
      ],
      "execution_count": 0,
      "outputs": []
    },
    {
      "cell_type": "code",
      "metadata": {
        "id": "1EnX3JRDbXIv",
        "colab_type": "code",
        "colab": {}
      },
      "source": [
        "import pandas as pd\n",
        "headlines_df=pd.DataFrame(columns=cols)"
      ],
      "execution_count": 0,
      "outputs": []
    },
    {
      "cell_type": "code",
      "metadata": {
        "id": "3eU6rQJ_bboR",
        "colab_type": "code",
        "colab": {}
      },
      "source": [
        "!pip install geonamescache"
      ],
      "execution_count": 0,
      "outputs": []
    },
    {
      "cell_type": "code",
      "metadata": {
        "id": "Yx5MregubyHb",
        "colab_type": "code",
        "colab": {}
      },
      "source": [
        "import geonamescache\n",
        "\n",
        "from geonamescache import GeonamesCache\n",
        "gc = GeonamesCache()"
      ],
      "execution_count": 0,
      "outputs": []
    },
    {
      "cell_type": "code",
      "metadata": {
        "id": "orwxEWafbzY5",
        "colab_type": "code",
        "colab": {}
      },
      "source": [
        "cities = gc.get_cities()"
      ],
      "execution_count": 0,
      "outputs": []
    },
    {
      "cell_type": "code",
      "metadata": {
        "id": "vjEI4NNXb4xg",
        "colab_type": "code",
        "colab": {}
      },
      "source": [
        "countries = gc.get_countries()"
      ],
      "execution_count": 0,
      "outputs": []
    },
    {
      "cell_type": "code",
      "metadata": {
        "id": "7n4ozPDKcHPL",
        "colab_type": "code",
        "colab": {}
      },
      "source": [
        "cities_names=[]\n",
        "cities_id=list(cities.keys())\n",
        "for city_id in cities_id:\n",
        "    cities_names.append(cities[city_id]['name'])"
      ],
      "execution_count": 0,
      "outputs": []
    },
    {
      "cell_type": "code",
      "metadata": {
        "id": "Ob705OvLcIXT",
        "colab_type": "code",
        "colab": {}
      },
      "source": [
        "countries_names=[]\n",
        "countries_id=list(countries.keys())\n",
        "for country_id in countries_id:\n",
        "    countries_names.append(countries[country_id]['name'])"
      ],
      "execution_count": 0,
      "outputs": []
    },
    {
      "cell_type": "code",
      "metadata": {
        "id": "1S4RLUSOcXB3",
        "colab_type": "code",
        "colab": {}
      },
      "source": [
        "!pip install unidecode\n",
        "from unidecode import unidecode\n",
        "accented_names = [city['name'] for city in gc.get_cities().values()\n",
        "                  if city['name'] != unidecode(city['name'])]"
      ],
      "execution_count": 0,
      "outputs": []
    },
    {
      "cell_type": "code",
      "metadata": {
        "id": "qx4XJZ6ncYHm",
        "colab_type": "code",
        "colab": {}
      },
      "source": [
        "cities_names_unidecoded=[unidecode(city) for city in cities_names]"
      ],
      "execution_count": 0,
      "outputs": []
    },
    {
      "cell_type": "code",
      "metadata": {
        "id": "xMlDoDUXchp0",
        "colab_type": "code",
        "colab": {}
      },
      "source": [
        "countries_unidecoded=[unidecode(country) for country in countries_names]"
      ],
      "execution_count": 0,
      "outputs": []
    },
    {
      "cell_type": "code",
      "metadata": {
        "id": "nlkYA-vBcll8",
        "colab_type": "code",
        "colab": {}
      },
      "source": [
        "countries_unidecoded_new=[]\n",
        "for country in countries_unidecoded:\n",
        "    if ',' in country:\n",
        "        country=country.split(',')\n",
        "        country_str = country[1] + country[0]\n",
        "        new_country = ''.join(country_str)\n",
        "        countries_unidecoded_new.append(new_country)\n",
        "    else:\n",
        "        countries_unidecoded_new.append(country)"
      ],
      "execution_count": 0,
      "outputs": []
    },
    {
      "cell_type": "code",
      "metadata": {
        "id": "kw09u58ncqg9",
        "colab_type": "code",
        "colab": {}
      },
      "source": [
        "import re\n",
        "\n",
        "dict_city=dict()\n",
        "dict_country=dict()\n",
        "for city_name in cities_names_unidecoded:\n",
        "    regexp_city_name = re.compile(r'\\b'+city_name+r'\\b')\n",
        "    dict_city[city_name]= regexp_city_name\n",
        "for country in countries_unidecoded_new:\n",
        "    regexp_country_name=re.compile(r'\\b'+country+r'\\b')\n",
        "    dict_country[country] =  regexp_country_name"
      ],
      "execution_count": 0,
      "outputs": []
    },
    {
      "cell_type": "code",
      "metadata": {
        "id": "iUi1BCaUcrdv",
        "colab_type": "code",
        "colab": {}
      },
      "source": [
        "import numpy as np\n",
        "import pandas as pd\n",
        "\n",
        "for city_name in cities_names_unidecoded:\n",
        "    for headline in maplist:\n",
        "        if dict_city[city_name].search(headline):\n",
        "            for country in countries_unidecoded_new:\n",
        "                if dict_country[country].search(headline):\n",
        "                    a_row = pd.Series([headline, city_name, country])\n",
        "                    row_df = pd.DataFrame([a_row])\n",
        "                    headlines_df = pd.concat([row_df, headlines_df], ignore_index=True)\n",
        "                else:\n",
        "                    a_row = pd.Series([headline, city_name, np.nan])\n",
        "                    row_df = pd.DataFrame([a_row])\n",
        "                    headlines_df = pd.concat([row_df, headlines_df], ignore_index=True)\n",
        "        else:\n",
        "            for country in countries_unidecoded_new:\n",
        "                if dict_country[country].search(headline):\n",
        "                    a_row = pd.Series([headline, np.nan, country])\n",
        "                    row_df = pd.DataFrame([a_row])\n",
        "                    headlines_df = pd.concat([row_df, headlines_df], ignore_index=True)\n",
        "                else:\n",
        "                    a_row = pd.Series([headline, np.nan, np.nan])\n",
        "                    row_df = pd.DataFrame([a_row])\n",
        "                    headlines_df = pd.concat([row_df, headlines_df], ignore_index=True)\n",
        "        \n",
        "print(headlines_df)"
      ],
      "execution_count": 0,
      "outputs": []
    }
  ]
}